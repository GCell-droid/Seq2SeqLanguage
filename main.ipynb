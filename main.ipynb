{
  "cells": [
    {
      "cell_type": "code",
      "execution_count": 1,
      "metadata": {
        "id": "wRHi1u4k13KN"
      },
      "outputs": [],
      "source": [
        "import numpy as np\n",
        "import pandas as pd\n",
        "import matplotlib.pyplot as plt\n",
        "import re\n",
        "from sklearn.utils import shuffle\n",
        "%matplotlib inline\n",
        "from tensorflow.keras.preprocessing.sequence import pad_sequences\n",
        "from tensorflow.keras.preprocessing.text import Tokenizer\n",
        "from tensorflow.keras.models import Model\n",
        "from tensorflow.keras.layers import Dense,Bidirectional,Activation,Lambda,Input,Embedding,LSTM"
      ]
    },
    {
      "cell_type": "code",
      "execution_count": 2,
      "metadata": {
        "colab": {
          "base_uri": "https://localhost:8080/",
          "height": 91
        },
        "id": "E3wpvh1w3ONR",
        "outputId": "c28d83f0-64ed-4dd5-a075-046fd276b3d7"
      },
      "outputs": [
        {
          "output_type": "display_data",
          "data": {
            "text/plain": [
              "<IPython.core.display.HTML object>"
            ],
            "text/html": [
              "\n",
              "     <input type=\"file\" id=\"files-4a2601f9-32b3-46fd-b26b-36d57670737a\" name=\"files[]\" multiple disabled\n",
              "        style=\"border:none\" />\n",
              "     <output id=\"result-4a2601f9-32b3-46fd-b26b-36d57670737a\">\n",
              "      Upload widget is only available when the cell has been executed in the\n",
              "      current browser session. Please rerun this cell to enable.\n",
              "      </output>\n",
              "      <script>// Copyright 2017 Google LLC\n",
              "//\n",
              "// Licensed under the Apache License, Version 2.0 (the \"License\");\n",
              "// you may not use this file except in compliance with the License.\n",
              "// You may obtain a copy of the License at\n",
              "//\n",
              "//      http://www.apache.org/licenses/LICENSE-2.0\n",
              "//\n",
              "// Unless required by applicable law or agreed to in writing, software\n",
              "// distributed under the License is distributed on an \"AS IS\" BASIS,\n",
              "// WITHOUT WARRANTIES OR CONDITIONS OF ANY KIND, either express or implied.\n",
              "// See the License for the specific language governing permissions and\n",
              "// limitations under the License.\n",
              "\n",
              "/**\n",
              " * @fileoverview Helpers for google.colab Python module.\n",
              " */\n",
              "(function(scope) {\n",
              "function span(text, styleAttributes = {}) {\n",
              "  const element = document.createElement('span');\n",
              "  element.textContent = text;\n",
              "  for (const key of Object.keys(styleAttributes)) {\n",
              "    element.style[key] = styleAttributes[key];\n",
              "  }\n",
              "  return element;\n",
              "}\n",
              "\n",
              "// Max number of bytes which will be uploaded at a time.\n",
              "const MAX_PAYLOAD_SIZE = 100 * 1024;\n",
              "\n",
              "function _uploadFiles(inputId, outputId) {\n",
              "  const steps = uploadFilesStep(inputId, outputId);\n",
              "  const outputElement = document.getElementById(outputId);\n",
              "  // Cache steps on the outputElement to make it available for the next call\n",
              "  // to uploadFilesContinue from Python.\n",
              "  outputElement.steps = steps;\n",
              "\n",
              "  return _uploadFilesContinue(outputId);\n",
              "}\n",
              "\n",
              "// This is roughly an async generator (not supported in the browser yet),\n",
              "// where there are multiple asynchronous steps and the Python side is going\n",
              "// to poll for completion of each step.\n",
              "// This uses a Promise to block the python side on completion of each step,\n",
              "// then passes the result of the previous step as the input to the next step.\n",
              "function _uploadFilesContinue(outputId) {\n",
              "  const outputElement = document.getElementById(outputId);\n",
              "  const steps = outputElement.steps;\n",
              "\n",
              "  const next = steps.next(outputElement.lastPromiseValue);\n",
              "  return Promise.resolve(next.value.promise).then((value) => {\n",
              "    // Cache the last promise value to make it available to the next\n",
              "    // step of the generator.\n",
              "    outputElement.lastPromiseValue = value;\n",
              "    return next.value.response;\n",
              "  });\n",
              "}\n",
              "\n",
              "/**\n",
              " * Generator function which is called between each async step of the upload\n",
              " * process.\n",
              " * @param {string} inputId Element ID of the input file picker element.\n",
              " * @param {string} outputId Element ID of the output display.\n",
              " * @return {!Iterable<!Object>} Iterable of next steps.\n",
              " */\n",
              "function* uploadFilesStep(inputId, outputId) {\n",
              "  const inputElement = document.getElementById(inputId);\n",
              "  inputElement.disabled = false;\n",
              "\n",
              "  const outputElement = document.getElementById(outputId);\n",
              "  outputElement.innerHTML = '';\n",
              "\n",
              "  const pickedPromise = new Promise((resolve) => {\n",
              "    inputElement.addEventListener('change', (e) => {\n",
              "      resolve(e.target.files);\n",
              "    });\n",
              "  });\n",
              "\n",
              "  const cancel = document.createElement('button');\n",
              "  inputElement.parentElement.appendChild(cancel);\n",
              "  cancel.textContent = 'Cancel upload';\n",
              "  const cancelPromise = new Promise((resolve) => {\n",
              "    cancel.onclick = () => {\n",
              "      resolve(null);\n",
              "    };\n",
              "  });\n",
              "\n",
              "  // Wait for the user to pick the files.\n",
              "  const files = yield {\n",
              "    promise: Promise.race([pickedPromise, cancelPromise]),\n",
              "    response: {\n",
              "      action: 'starting',\n",
              "    }\n",
              "  };\n",
              "\n",
              "  cancel.remove();\n",
              "\n",
              "  // Disable the input element since further picks are not allowed.\n",
              "  inputElement.disabled = true;\n",
              "\n",
              "  if (!files) {\n",
              "    return {\n",
              "      response: {\n",
              "        action: 'complete',\n",
              "      }\n",
              "    };\n",
              "  }\n",
              "\n",
              "  for (const file of files) {\n",
              "    const li = document.createElement('li');\n",
              "    li.append(span(file.name, {fontWeight: 'bold'}));\n",
              "    li.append(span(\n",
              "        `(${file.type || 'n/a'}) - ${file.size} bytes, ` +\n",
              "        `last modified: ${\n",
              "            file.lastModifiedDate ? file.lastModifiedDate.toLocaleDateString() :\n",
              "                                    'n/a'} - `));\n",
              "    const percent = span('0% done');\n",
              "    li.appendChild(percent);\n",
              "\n",
              "    outputElement.appendChild(li);\n",
              "\n",
              "    const fileDataPromise = new Promise((resolve) => {\n",
              "      const reader = new FileReader();\n",
              "      reader.onload = (e) => {\n",
              "        resolve(e.target.result);\n",
              "      };\n",
              "      reader.readAsArrayBuffer(file);\n",
              "    });\n",
              "    // Wait for the data to be ready.\n",
              "    let fileData = yield {\n",
              "      promise: fileDataPromise,\n",
              "      response: {\n",
              "        action: 'continue',\n",
              "      }\n",
              "    };\n",
              "\n",
              "    // Use a chunked sending to avoid message size limits. See b/62115660.\n",
              "    let position = 0;\n",
              "    do {\n",
              "      const length = Math.min(fileData.byteLength - position, MAX_PAYLOAD_SIZE);\n",
              "      const chunk = new Uint8Array(fileData, position, length);\n",
              "      position += length;\n",
              "\n",
              "      const base64 = btoa(String.fromCharCode.apply(null, chunk));\n",
              "      yield {\n",
              "        response: {\n",
              "          action: 'append',\n",
              "          file: file.name,\n",
              "          data: base64,\n",
              "        },\n",
              "      };\n",
              "\n",
              "      let percentDone = fileData.byteLength === 0 ?\n",
              "          100 :\n",
              "          Math.round((position / fileData.byteLength) * 100);\n",
              "      percent.textContent = `${percentDone}% done`;\n",
              "\n",
              "    } while (position < fileData.byteLength);\n",
              "  }\n",
              "\n",
              "  // All done.\n",
              "  yield {\n",
              "    response: {\n",
              "      action: 'complete',\n",
              "    }\n",
              "  };\n",
              "}\n",
              "\n",
              "scope.google = scope.google || {};\n",
              "scope.google.colab = scope.google.colab || {};\n",
              "scope.google.colab._files = {\n",
              "  _uploadFiles,\n",
              "  _uploadFilesContinue,\n",
              "};\n",
              "})(self);\n",
              "</script> "
            ]
          },
          "metadata": {}
        },
        {
          "output_type": "stream",
          "name": "stdout",
          "text": [
            "Saving kaggle.json to kaggle.json\n"
          ]
        },
        {
          "output_type": "execute_result",
          "data": {
            "text/plain": [
              "{'kaggle.json': b'{\"username\":\"siddharthn18\",\"key\":\"528bbee940517d5161cfb3c279e42e1d\"}'}"
            ]
          },
          "metadata": {},
          "execution_count": 2
        }
      ],
      "source": [
        "from google.colab import files\n",
        "files.upload()\n"
      ]
    },
    {
      "cell_type": "code",
      "execution_count": 3,
      "metadata": {
        "id": "zSCdE1h5C37T"
      },
      "outputs": [],
      "source": [
        "!pip install -q kaggle\n",
        "import os\n",
        "os.environ['KAGGLE_CONFIG_DIR'] = \"/root/.kaggle\"\n"
      ]
    },
    {
      "cell_type": "code",
      "execution_count": 4,
      "metadata": {
        "id": "XNXeyLnIC9Kj"
      },
      "outputs": [],
      "source": [
        "!mkdir -p ~/.kaggle\n",
        "!cp kaggle.json ~/.kaggle/\n"
      ]
    },
    {
      "cell_type": "code",
      "execution_count": 5,
      "metadata": {
        "colab": {
          "base_uri": "https://localhost:8080/"
        },
        "id": "_jX75Nt9DDZF",
        "outputId": "2b3a92b9-4835-4590-bac3-eebcddf4d32b"
      },
      "outputs": [
        {
          "output_type": "stream",
          "name": "stdout",
          "text": [
            "Warning: Your Kaggle API key is readable by other users on this system! To fix this, you can run 'chmod 600 /root/.kaggle/kaggle.json'\n",
            "Dataset URL: https://www.kaggle.com/datasets/vaibhavkumar11/hindi-english-parallel-corpus\n",
            "License(s): unknown\n",
            "Downloading hindi-english-parallel-corpus.zip to /content\n",
            " 85% 96.0M/112M [00:00<00:00, 993MB/s]\n",
            "100% 112M/112M [00:00<00:00, 581MB/s] \n"
          ]
        }
      ],
      "source": [
        "!kaggle datasets download -d vaibhavkumar11/hindi-english-parallel-corpus\n"
      ]
    },
    {
      "cell_type": "code",
      "execution_count": 6,
      "metadata": {
        "colab": {
          "base_uri": "https://localhost:8080/"
        },
        "id": "r3buJHeoDOT7",
        "outputId": "db608a4a-1c49-4565-c729-4fda8ca57f6f"
      },
      "outputs": [
        {
          "output_type": "stream",
          "name": "stdout",
          "text": [
            "Archive:  hindi-english-parallel-corpus.zip\n",
            "  inflating: /content/hindi_english_parallel.csv  \n"
          ]
        }
      ],
      "source": [
        "!unzip hindi-english-parallel-corpus.zip -d /content/\n"
      ]
    },
    {
      "cell_type": "code",
      "execution_count": 7,
      "metadata": {
        "colab": {
          "base_uri": "https://localhost:8080/"
        },
        "id": "xUGOnbKnAQY8",
        "outputId": "204cf84f-060a-43ef-b00c-04bda90aabbd"
      },
      "outputs": [
        {
          "output_type": "stream",
          "name": "stdout",
          "text": [
            "                                               hindi  \\\n",
            "0    अपने अनुप्रयोग को पहुंचनीयता व्यायाम का लाभ दें   \n",
            "1                    एक्सेर्साइसर पहुंचनीयता अन्वेषक   \n",
            "2              निचले पटल के लिए डिफोल्ट प्लग-इन खाका   \n",
            "3               ऊपरी पटल के लिए डिफोल्ट प्लग-इन खाका   \n",
            "4  उन प्लग-इनों की सूची जिन्हें डिफोल्ट रूप से नि...   \n",
            "\n",
            "                                          english  \n",
            "0  Give your application an accessibility workout  \n",
            "1               Accerciser Accessibility Explorer  \n",
            "2  The default plugin layout for the bottom panel  \n",
            "3     The default plugin layout for the top panel  \n",
            "4  A list of plugins that are disabled by default  \n"
          ]
        }
      ],
      "source": [
        "df=pd.read_csv('hindi_english_parallel.csv')\n",
        "print(df.head())"
      ]
    },
    {
      "cell_type": "code",
      "execution_count": 8,
      "metadata": {
        "colab": {
          "base_uri": "https://localhost:8080/"
        },
        "id": "egvnHqf5Db_8",
        "outputId": "413104b6-1e45-439f-d71a-454be0bd44ea"
      },
      "outputs": [
        {
          "output_type": "stream",
          "name": "stdout",
          "text": [
            "1561841\n"
          ]
        }
      ],
      "source": [
        "print(len(df))"
      ]
    },
    {
      "cell_type": "code",
      "execution_count": 9,
      "metadata": {
        "colab": {
          "base_uri": "https://localhost:8080/",
          "height": 147
        },
        "id": "cCKWKIRcDdsL",
        "outputId": "27a96f2f-a4b6-401b-f74a-0ecbb645f7c2"
      },
      "outputs": [
        {
          "output_type": "execute_result",
          "data": {
            "text/plain": [
              "hindi      6057\n",
              "english     877\n",
              "dtype: int64"
            ],
            "text/html": [
              "<div>\n",
              "<style scoped>\n",
              "    .dataframe tbody tr th:only-of-type {\n",
              "        vertical-align: middle;\n",
              "    }\n",
              "\n",
              "    .dataframe tbody tr th {\n",
              "        vertical-align: top;\n",
              "    }\n",
              "\n",
              "    .dataframe thead th {\n",
              "        text-align: right;\n",
              "    }\n",
              "</style>\n",
              "<table border=\"1\" class=\"dataframe\">\n",
              "  <thead>\n",
              "    <tr style=\"text-align: right;\">\n",
              "      <th></th>\n",
              "      <th>0</th>\n",
              "    </tr>\n",
              "  </thead>\n",
              "  <tbody>\n",
              "    <tr>\n",
              "      <th>hindi</th>\n",
              "      <td>6057</td>\n",
              "    </tr>\n",
              "    <tr>\n",
              "      <th>english</th>\n",
              "      <td>877</td>\n",
              "    </tr>\n",
              "  </tbody>\n",
              "</table>\n",
              "</div><br><label><b>dtype:</b> int64</label>"
            ]
          },
          "metadata": {},
          "execution_count": 9
        }
      ],
      "source": [
        "df.isnull().sum()"
      ]
    },
    {
      "cell_type": "code",
      "execution_count": 10,
      "metadata": {
        "id": "l6RlXh4XDf3L"
      },
      "outputs": [],
      "source": [
        "df.dropna(inplace=True)\n",
        "df=df.reset_index(drop=True)"
      ]
    },
    {
      "cell_type": "code",
      "execution_count": 11,
      "metadata": {
        "colab": {
          "base_uri": "https://localhost:8080/",
          "height": 147
        },
        "id": "VREW5yEXDh6d",
        "outputId": "f0148216-ec55-4723-8ac8-f7d0df79c7e2"
      },
      "outputs": [
        {
          "output_type": "execute_result",
          "data": {
            "text/plain": [
              "hindi      0\n",
              "english    0\n",
              "dtype: int64"
            ],
            "text/html": [
              "<div>\n",
              "<style scoped>\n",
              "    .dataframe tbody tr th:only-of-type {\n",
              "        vertical-align: middle;\n",
              "    }\n",
              "\n",
              "    .dataframe tbody tr th {\n",
              "        vertical-align: top;\n",
              "    }\n",
              "\n",
              "    .dataframe thead th {\n",
              "        text-align: right;\n",
              "    }\n",
              "</style>\n",
              "<table border=\"1\" class=\"dataframe\">\n",
              "  <thead>\n",
              "    <tr style=\"text-align: right;\">\n",
              "      <th></th>\n",
              "      <th>0</th>\n",
              "    </tr>\n",
              "  </thead>\n",
              "  <tbody>\n",
              "    <tr>\n",
              "      <th>hindi</th>\n",
              "      <td>0</td>\n",
              "    </tr>\n",
              "    <tr>\n",
              "      <th>english</th>\n",
              "      <td>0</td>\n",
              "    </tr>\n",
              "  </tbody>\n",
              "</table>\n",
              "</div><br><label><b>dtype:</b> int64</label>"
            ]
          },
          "metadata": {},
          "execution_count": 11
        }
      ],
      "source": [
        "df.isnull().sum()"
      ]
    },
    {
      "cell_type": "code",
      "execution_count": 12,
      "metadata": {
        "colab": {
          "base_uri": "https://localhost:8080/"
        },
        "id": "KfVJztHQDkI8",
        "outputId": "33f39717-c249-4402-ba9b-7a6634765e4b"
      },
      "outputs": [
        {
          "output_type": "execute_result",
          "data": {
            "text/plain": [
              "1555574"
            ]
          },
          "metadata": {},
          "execution_count": 12
        }
      ],
      "source": [
        "len(df)"
      ]
    },
    {
      "cell_type": "code",
      "execution_count": 13,
      "metadata": {
        "colab": {
          "base_uri": "https://localhost:8080/",
          "height": 458
        },
        "id": "6HlQPsLEDl8L",
        "outputId": "c569d43c-3a59-4d11-952e-8d096afede1e"
      },
      "outputs": [
        {
          "output_type": "execute_result",
          "data": {
            "text/plain": [
              "0             Give your application an accessibility workout\n",
              "1                          Accerciser Accessibility Explorer\n",
              "2             The default plugin layout for the bottom panel\n",
              "3                The default plugin layout for the top panel\n",
              "4             A list of plugins that are disabled by default\n",
              "                                 ...                        \n",
              "1555569                  शपथ लेने/प्रतिज्ञान करने वाले सदस्य\n",
              "1555570    स्पष्टीकरण.–जहां इस उपधारा के अधीन हानि और लाभ...\n",
              "1555571    है। I note that this is a landmark meeting – n...\n",
              "1555572    है। In the presentations that they made before...\n",
              "1555573    ्त है। Issues such as food and water security;...\n",
              "Name: english, Length: 1555574, dtype: object"
            ],
            "text/html": [
              "<div>\n",
              "<style scoped>\n",
              "    .dataframe tbody tr th:only-of-type {\n",
              "        vertical-align: middle;\n",
              "    }\n",
              "\n",
              "    .dataframe tbody tr th {\n",
              "        vertical-align: top;\n",
              "    }\n",
              "\n",
              "    .dataframe thead th {\n",
              "        text-align: right;\n",
              "    }\n",
              "</style>\n",
              "<table border=\"1\" class=\"dataframe\">\n",
              "  <thead>\n",
              "    <tr style=\"text-align: right;\">\n",
              "      <th></th>\n",
              "      <th>english</th>\n",
              "    </tr>\n",
              "  </thead>\n",
              "  <tbody>\n",
              "    <tr>\n",
              "      <th>0</th>\n",
              "      <td>Give your application an accessibility workout</td>\n",
              "    </tr>\n",
              "    <tr>\n",
              "      <th>1</th>\n",
              "      <td>Accerciser Accessibility Explorer</td>\n",
              "    </tr>\n",
              "    <tr>\n",
              "      <th>2</th>\n",
              "      <td>The default plugin layout for the bottom panel</td>\n",
              "    </tr>\n",
              "    <tr>\n",
              "      <th>3</th>\n",
              "      <td>The default plugin layout for the top panel</td>\n",
              "    </tr>\n",
              "    <tr>\n",
              "      <th>4</th>\n",
              "      <td>A list of plugins that are disabled by default</td>\n",
              "    </tr>\n",
              "    <tr>\n",
              "      <th>...</th>\n",
              "      <td>...</td>\n",
              "    </tr>\n",
              "    <tr>\n",
              "      <th>1555569</th>\n",
              "      <td>शपथ लेने/प्रतिज्ञान करने वाले सदस्य</td>\n",
              "    </tr>\n",
              "    <tr>\n",
              "      <th>1555570</th>\n",
              "      <td>स्पष्टीकरण.–जहां इस उपधारा के अधीन हानि और लाभ...</td>\n",
              "    </tr>\n",
              "    <tr>\n",
              "      <th>1555571</th>\n",
              "      <td>है। I note that this is a landmark meeting – n...</td>\n",
              "    </tr>\n",
              "    <tr>\n",
              "      <th>1555572</th>\n",
              "      <td>है। In the presentations that they made before...</td>\n",
              "    </tr>\n",
              "    <tr>\n",
              "      <th>1555573</th>\n",
              "      <td>्त है। Issues such as food and water security;...</td>\n",
              "    </tr>\n",
              "  </tbody>\n",
              "</table>\n",
              "<p>1555574 rows × 1 columns</p>\n",
              "</div><br><label><b>dtype:</b> object</label>"
            ]
          },
          "metadata": {},
          "execution_count": 13
        }
      ],
      "source": [
        "df['english']"
      ]
    },
    {
      "cell_type": "code",
      "execution_count": 14,
      "metadata": {
        "colab": {
          "base_uri": "https://localhost:8080/",
          "height": 147
        },
        "id": "0VEn4ha2DoDs",
        "outputId": "aabdf2f6-3ec6-4d0c-c276-6299d2307cde"
      },
      "outputs": [
        {
          "output_type": "execute_result",
          "data": {
            "text/plain": [
              "hindi      स्पष्टीकरण.–जहां इस उपधारा के अधीन हानि और लाभ...\n",
              "english    स्पष्टीकरण.–जहां इस उपधारा के अधीन हानि और लाभ...\n",
              "Name: 1555570, dtype: object"
            ],
            "text/html": [
              "<div>\n",
              "<style scoped>\n",
              "    .dataframe tbody tr th:only-of-type {\n",
              "        vertical-align: middle;\n",
              "    }\n",
              "\n",
              "    .dataframe tbody tr th {\n",
              "        vertical-align: top;\n",
              "    }\n",
              "\n",
              "    .dataframe thead th {\n",
              "        text-align: right;\n",
              "    }\n",
              "</style>\n",
              "<table border=\"1\" class=\"dataframe\">\n",
              "  <thead>\n",
              "    <tr style=\"text-align: right;\">\n",
              "      <th></th>\n",
              "      <th>1555570</th>\n",
              "    </tr>\n",
              "  </thead>\n",
              "  <tbody>\n",
              "    <tr>\n",
              "      <th>hindi</th>\n",
              "      <td>स्पष्टीकरण.–जहां इस उपधारा के अधीन हानि और लाभ...</td>\n",
              "    </tr>\n",
              "    <tr>\n",
              "      <th>english</th>\n",
              "      <td>स्पष्टीकरण.–जहां इस उपधारा के अधीन हानि और लाभ...</td>\n",
              "    </tr>\n",
              "  </tbody>\n",
              "</table>\n",
              "</div><br><label><b>dtype:</b> object</label>"
            ]
          },
          "metadata": {},
          "execution_count": 14
        }
      ],
      "source": [
        "df.iloc[1555570]"
      ]
    },
    {
      "cell_type": "code",
      "execution_count": 15,
      "metadata": {
        "id": "WdyN3jGZDqTL"
      },
      "outputs": [],
      "source": [
        "def contains_Hindi(text):\n",
        "    if isinstance(text,str):\n",
        "        return bool(re.search(r'[\\u0900-\\u097F]',text))\n",
        "    return False\n",
        "df_filtered=df[~df['english'].apply(contains_Hindi)].reset_index(drop=True)"
      ]
    },
    {
      "cell_type": "code",
      "execution_count": 16,
      "metadata": {
        "id": "UO_4usYLDs6s"
      },
      "outputs": [],
      "source": [
        "Embedding_dim=100\n",
        "Latent_dim=400\n",
        "max_seq_len=100\n",
        "max_vocab_size=20000"
      ]
    },
    {
      "cell_type": "code",
      "execution_count": 17,
      "metadata": {
        "id": "SjICY-MiDyPc"
      },
      "outputs": [],
      "source": [
        "input_text=[]\n",
        "target_text=[]\n",
        "target_text_input=[]\n",
        "translation=[]\n",
        "i=19999\n",
        "for j,t in enumerate(df['english']):\n",
        "    input_text.append(t)\n",
        "    if j==i:\n",
        "        j=0\n",
        "        break\n",
        "for j,t in enumerate(df['hindi']):\n",
        "    translation.append(t)\n",
        "    target_text.append(t+' <eos>')\n",
        "    target_text_input.append('<sos> '+t)\n",
        "    if j==i:\n",
        "        break"
      ]
    },
    {
      "cell_type": "code",
      "execution_count": 18,
      "metadata": {
        "id": "jCOYjOGYD1zr"
      },
      "outputs": [],
      "source": [
        "tokenizer_input=Tokenizer(num_words=max_vocab_size)\n",
        "tokenizer_input.fit_on_texts(input_text)\n",
        "tokenized_input=tokenizer_input.texts_to_sequences(input_text)"
      ]
    },
    {
      "cell_type": "code",
      "execution_count": 19,
      "metadata": {
        "colab": {
          "base_uri": "https://localhost:8080/"
        },
        "id": "8YjiNi9oD3lV",
        "outputId": "31c8afd5-726f-4b7e-e10f-ba3906a17835"
      },
      "outputs": [
        {
          "output_type": "stream",
          "name": "stdout",
          "text": [
            "word2idx length: 2036\n"
          ]
        }
      ],
      "source": [
        "word2idx=tokenizer_input.word_index\n",
        "print('word2idx length:',len(word2idx))"
      ]
    },
    {
      "cell_type": "code",
      "execution_count": 20,
      "metadata": {
        "id": "WskPArrTD6WD"
      },
      "outputs": [],
      "source": [
        "\n",
        "tokenizer_output=Tokenizer(num_words=max_vocab_size,filters='')\n",
        "tokenizer_output.fit_on_texts(target_text_input+target_text)\n",
        "tokenized_target=tokenizer_output.texts_to_sequences(target_text)\n",
        "tokenized_target_input=tokenizer_output.texts_to_sequences(target_text_input)"
      ]
    },
    {
      "cell_type": "code",
      "execution_count": 21,
      "metadata": {
        "colab": {
          "base_uri": "https://localhost:8080/"
        },
        "id": "_p62891iD8W8",
        "outputId": "6eaa1577-21f5-4946-b741-f72816a6d9f7"
      },
      "outputs": [
        {
          "output_type": "stream",
          "name": "stdout",
          "text": [
            "length of word2idx output: 2936\n"
          ]
        }
      ],
      "source": [
        "word2idx_output=tokenizer_output.word_index\n",
        "print('length of word2idx output:',len(word2idx_output))\n",
        "num_words_output=len(word2idx_output)+1"
      ]
    },
    {
      "cell_type": "code",
      "execution_count": 22,
      "metadata": {
        "colab": {
          "base_uri": "https://localhost:8080/"
        },
        "id": "39zqMeAND-Hj",
        "outputId": "d5332af5-41e0-4dc0-8756-61b735317bdd"
      },
      "outputs": [
        {
          "output_type": "stream",
          "name": "stdout",
          "text": [
            "Encoder input shape= (20000, 100)\n"
          ]
        }
      ],
      "source": [
        "\n",
        "encoder_input=pad_sequences(tokenized_input,maxlen=max_seq_len)\n",
        "print('Encoder input shape=',encoder_input.shape)"
      ]
    },
    {
      "cell_type": "code",
      "execution_count": 23,
      "metadata": {
        "colab": {
          "base_uri": "https://localhost:8080/"
        },
        "id": "BsZ0TlyWEANd",
        "outputId": "a463d9a5-d126-4c02-94da-2486caffde44"
      },
      "outputs": [
        {
          "output_type": "stream",
          "name": "stdout",
          "text": [
            "decoder input shape: (20000, 100)\n"
          ]
        }
      ],
      "source": [
        "decoder_input=pad_sequences(tokenized_target_input,maxlen=max_seq_len,padding='post')\n",
        "print('decoder input shape:',decoder_input.shape)"
      ]
    },
    {
      "cell_type": "code",
      "execution_count": 24,
      "metadata": {
        "colab": {
          "base_uri": "https://localhost:8080/"
        },
        "id": "xV2R0vbnECP9",
        "outputId": "e07f9e9e-27f5-4cad-8064-be285283a335"
      },
      "outputs": [
        {
          "output_type": "stream",
          "name": "stdout",
          "text": [
            "decoder output shape: (20000, 100)\n"
          ]
        }
      ],
      "source": [
        "decoder_output=pad_sequences(tokenized_target,maxlen=max_seq_len,padding='post')\n",
        "print('decoder output shape:',decoder_output.shape)"
      ]
    },
    {
      "cell_type": "code",
      "execution_count": 25,
      "metadata": {
        "colab": {
          "base_uri": "https://localhost:8080/"
        },
        "id": "YO0ZUho9EVEb",
        "outputId": "304841b1-84ac-40ca-fa3e-123a0d61ed69"
      },
      "outputs": [
        {
          "output_type": "stream",
          "name": "stdout",
          "text": [
            "--2025-05-15 05:07:11--  http://nlp.stanford.edu/data/glove.6B.zip\n",
            "Resolving nlp.stanford.edu (nlp.stanford.edu)... 171.64.67.140\n",
            "Connecting to nlp.stanford.edu (nlp.stanford.edu)|171.64.67.140|:80... connected.\n",
            "HTTP request sent, awaiting response... 302 Found\n",
            "Location: https://nlp.stanford.edu/data/glove.6B.zip [following]\n",
            "--2025-05-15 05:07:11--  https://nlp.stanford.edu/data/glove.6B.zip\n",
            "Connecting to nlp.stanford.edu (nlp.stanford.edu)|171.64.67.140|:443... connected.\n",
            "HTTP request sent, awaiting response... 301 Moved Permanently\n",
            "Location: https://downloads.cs.stanford.edu/nlp/data/glove.6B.zip [following]\n",
            "--2025-05-15 05:07:11--  https://downloads.cs.stanford.edu/nlp/data/glove.6B.zip\n",
            "Resolving downloads.cs.stanford.edu (downloads.cs.stanford.edu)... 171.64.64.22\n",
            "Connecting to downloads.cs.stanford.edu (downloads.cs.stanford.edu)|171.64.64.22|:443... connected.\n",
            "HTTP request sent, awaiting response... 200 OK\n",
            "Length: 862182613 (822M) [application/zip]\n",
            "Saving to: ‘glove.6B.zip’\n",
            "\n",
            "glove.6B.zip        100%[===================>] 822.24M  5.01MB/s    in 2m 39s  \n",
            "\n",
            "2025-05-15 05:09:50 (5.17 MB/s) - ‘glove.6B.zip’ saved [862182613/862182613]\n",
            "\n"
          ]
        }
      ],
      "source": [
        "!wget http://nlp.stanford.edu/data/glove.6B.zip\n",
        "!unzip -q glove.6B.zip\n"
      ]
    },
    {
      "cell_type": "code",
      "execution_count": 26,
      "metadata": {
        "colab": {
          "base_uri": "https://localhost:8080/"
        },
        "id": "RdyBCu6_EG0D",
        "outputId": "abfab7ae-270d-48a5-fde7-7a0aa7ae143a"
      },
      "outputs": [
        {
          "output_type": "stream",
          "name": "stdout",
          "text": [
            "Length of word vector = 400000\n"
          ]
        }
      ],
      "source": [
        "import numpy as np\n",
        "\n",
        "word_vec = {}\n",
        "with open(f\"glove.6B.{Embedding_dim}d.txt\", encoding='utf-8') as f:\n",
        "    for line in f:\n",
        "        values = line.split()\n",
        "        word = values[0]\n",
        "        vector = np.asarray(values[1:], dtype='float32')\n",
        "        word_vec[word] = vector\n",
        "\n",
        "print('Length of word vector =', len(word_vec))"
      ]
    },
    {
      "cell_type": "code",
      "execution_count": 27,
      "metadata": {
        "colab": {
          "base_uri": "https://localhost:8080/"
        },
        "id": "ZynB0qg_FHMT",
        "outputId": "25b68d06-b2ed-4bbc-9d45-0cfa4c5920e1"
      },
      "outputs": [
        {
          "output_type": "stream",
          "name": "stdout",
          "text": [
            "shape of word_embedding: (2037, 100)\n"
          ]
        }
      ],
      "source": [
        "num_words=min(max_vocab_size,len(word2idx)+1)\n",
        "word_embedding=np.zeros((num_words,Embedding_dim))\n",
        "for word,i in word2idx.items():\n",
        "    if i<max_vocab_size:\n",
        "        vec=word_vec.get(word)\n",
        "        if vec is not None:\n",
        "            word_embedding[i]=vec\n",
        "print('shape of word_embedding:',word_embedding.shape)"
      ]
    },
    {
      "cell_type": "code",
      "execution_count": 28,
      "metadata": {
        "id": "dhEPc1WeFKEs"
      },
      "outputs": [],
      "source": [
        "embedding_layer_input=Embedding(num_words,\n",
        "                          Embedding_dim,\n",
        "                          weights=[word_embedding],\n",
        "                          trainable=False)"
      ]
    },
    {
      "cell_type": "code",
      "execution_count": 29,
      "metadata": {
        "id": "43M_t8jyFNQD"
      },
      "outputs": [],
      "source": [
        "encoder_input_placeholder=Input(shape=(max_seq_len,))\n",
        "x=embedding_layer_input(encoder_input_placeholder)\n",
        "encoder_lstm=LSTM(Latent_dim,return_state=True)\n",
        "encoder_output,h,c=encoder_lstm(x)\n",
        "encoder_states=[h,c]"
      ]
    },
    {
      "cell_type": "code",
      "execution_count": 30,
      "metadata": {
        "id": "aM-_MSWLFPQs"
      },
      "outputs": [],
      "source": [
        "decoder_input_placeholder=Input(shape=(max_seq_len,))\n",
        "decoder_embedding=Embedding(num_words_output,Embedding_dim)\n",
        "x=decoder_embedding(decoder_input_placeholder)\n",
        "decoder_lstm=LSTM(Latent_dim,return_state=True,return_sequences=True)\n",
        "decoder_outputs,_,_=decoder_lstm(x,initial_state=encoder_states)\n",
        "decoder_dense=Dense(num_words_output,activation='softmax')\n",
        "decoder_outputs=decoder_dense(decoder_outputs)"
      ]
    },
    {
      "cell_type": "code",
      "execution_count": 31,
      "metadata": {
        "id": "pnvRbrxVFQ-7"
      },
      "outputs": [],
      "source": [
        "model=Model([encoder_input_placeholder,decoder_input_placeholder],\n",
        "            decoder_outputs)"
      ]
    },
    {
      "cell_type": "code",
      "execution_count": 32,
      "metadata": {
        "id": "_tAaWGjnFTGc"
      },
      "outputs": [],
      "source": [
        "model.compile(loss='sparse_categorical_crossentropy',optimizer='adam',metrics=['accuracy'])"
      ]
    },
    {
      "cell_type": "code",
      "execution_count": 33,
      "metadata": {
        "id": "IpNxZymNFVCz",
        "outputId": "409ebf12-1663-4d2a-bee3-bab06c3a90b8",
        "colab": {
          "base_uri": "https://localhost:8080/"
        }
      },
      "outputs": [
        {
          "output_type": "stream",
          "name": "stdout",
          "text": [
            "Epoch 1/10\n",
            "\u001b[1m250/250\u001b[0m \u001b[32m━━━━━━━━━━━━━━━━━━━━\u001b[0m\u001b[37m\u001b[0m \u001b[1m24s\u001b[0m 72ms/step - accuracy: 0.9347 - loss: 1.0179 - val_accuracy: 0.9677 - val_loss: 0.2182\n",
            "Epoch 2/10\n",
            "\u001b[1m250/250\u001b[0m \u001b[32m━━━━━━━━━━━━━━━━━━━━\u001b[0m\u001b[37m\u001b[0m \u001b[1m17s\u001b[0m 67ms/step - accuracy: 0.9637 - loss: 0.2321 - val_accuracy: 0.9689 - val_loss: 0.1955\n",
            "Epoch 3/10\n",
            "\u001b[1m250/250\u001b[0m \u001b[32m━━━━━━━━━━━━━━━━━━━━\u001b[0m\u001b[37m\u001b[0m \u001b[1m18s\u001b[0m 71ms/step - accuracy: 0.9676 - loss: 0.1952 - val_accuracy: 0.9707 - val_loss: 0.1682\n",
            "Epoch 4/10\n",
            "\u001b[1m250/250\u001b[0m \u001b[32m━━━━━━━━━━━━━━━━━━━━\u001b[0m\u001b[37m\u001b[0m \u001b[1m17s\u001b[0m 68ms/step - accuracy: 0.9712 - loss: 0.1603 - val_accuracy: 0.9745 - val_loss: 0.1357\n",
            "Epoch 5/10\n",
            "\u001b[1m250/250\u001b[0m \u001b[32m━━━━━━━━━━━━━━━━━━━━\u001b[0m\u001b[37m\u001b[0m \u001b[1m21s\u001b[0m 72ms/step - accuracy: 0.9758 - loss: 0.1234 - val_accuracy: 0.9780 - val_loss: 0.1070\n",
            "Epoch 6/10\n",
            "\u001b[1m250/250\u001b[0m \u001b[32m━━━━━━━━━━━━━━━━━━━━\u001b[0m\u001b[37m\u001b[0m \u001b[1m20s\u001b[0m 70ms/step - accuracy: 0.9811 - loss: 0.0925 - val_accuracy: 0.9821 - val_loss: 0.0823\n",
            "Epoch 7/10\n",
            "\u001b[1m250/250\u001b[0m \u001b[32m━━━━━━━━━━━━━━━━━━━━\u001b[0m\u001b[37m\u001b[0m \u001b[1m20s\u001b[0m 70ms/step - accuracy: 0.9857 - loss: 0.0689 - val_accuracy: 0.9859 - val_loss: 0.0640\n",
            "Epoch 8/10\n",
            "\u001b[1m250/250\u001b[0m \u001b[32m━━━━━━━━━━━━━━━━━━━━\u001b[0m\u001b[37m\u001b[0m \u001b[1m20s\u001b[0m 68ms/step - accuracy: 0.9883 - loss: 0.0556 - val_accuracy: 0.9888 - val_loss: 0.0506\n",
            "Epoch 9/10\n",
            "\u001b[1m250/250\u001b[0m \u001b[32m━━━━━━━━━━━━━━━━━━━━\u001b[0m\u001b[37m\u001b[0m \u001b[1m21s\u001b[0m 72ms/step - accuracy: 0.9907 - loss: 0.0441 - val_accuracy: 0.9907 - val_loss: 0.0418\n",
            "Epoch 10/10\n",
            "\u001b[1m250/250\u001b[0m \u001b[32m━━━━━━━━━━━━━━━━━━━━\u001b[0m\u001b[37m\u001b[0m \u001b[1m20s\u001b[0m 69ms/step - accuracy: 0.9925 - loss: 0.0351 - val_accuracy: 0.9929 - val_loss: 0.0329\n"
          ]
        }
      ],
      "source": [
        "hist=model.fit([encoder_input,decoder_input],\n",
        "               decoder_output,\n",
        "               epochs=10,\n",
        "               validation_split=0.2,\n",
        "               batch_size=64)"
      ]
    },
    {
      "cell_type": "code",
      "execution_count": 34,
      "metadata": {
        "id": "jUEbOCm3FxzO",
        "colab": {
          "base_uri": "https://localhost:8080/",
          "height": 448
        },
        "outputId": "e7885127-cc63-43d7-f481-c4c7c08fcef9"
      },
      "outputs": [
        {
          "output_type": "execute_result",
          "data": {
            "text/plain": [
              "<matplotlib.legend.Legend at 0x7d7121f475d0>"
            ]
          },
          "metadata": {},
          "execution_count": 34
        },
        {
          "output_type": "display_data",
          "data": {
            "text/plain": [
              "<Figure size 640x480 with 1 Axes>"
            ],
            "image/png": "[encoded data removed]"
          },
          "metadata": {}
        }
      ],
      "source": [
        "plt.plot(hist.history['val_accuracy'],label='val_acc')\n",
        "plt.plot(hist.history['accuracy'],label='accuracy')\n",
        "plt.legend()"
      ]
    },
    {
      "cell_type": "code",
      "execution_count": 35,
      "metadata": {
        "id": "rfomSWYiFzPD",
        "colab": {
          "base_uri": "https://localhost:8080/",
          "height": 448
        },
        "outputId": "063ab1c4-03ed-4a78-db6d-ca4e63bee52b"
      },
      "outputs": [
        {
          "output_type": "execute_result",
          "data": {
            "text/plain": [
              "<matplotlib.legend.Legend at 0x7d71104abb90>"
            ]
          },
          "metadata": {},
          "execution_count": 35
        },
        {
          "output_type": "display_data",
          "data": {
            "text/plain": [
              "<Figure size 640x480 with 1 Axes>"
            ],
            "image/png": "[encoded data removed]"
          },
          "metadata": {}
        }
      ],
      "source": [
        "plt.plot(hist.history['val_loss'],label='val_loss')\n",
        "plt.plot(hist.history['loss'],label='loss')\n",
        "plt.legend()"
      ]
    },
    {
      "cell_type": "code",
      "execution_count": 36,
      "metadata": {
        "id": "wCe3wuDJF1VT"
      },
      "outputs": [],
      "source": [
        "encoder_model=Model(encoder_input_placeholder,encoder_states)"
      ]
    },
    {
      "cell_type": "code",
      "execution_count": 37,
      "metadata": {
        "id": "mRkUBe3GF3uj"
      },
      "outputs": [],
      "source": [
        "decoder_inital_h=Input(shape=(Latent_dim,))\n",
        "decoder_inital_c=Input(shape=(Latent_dim,))\n",
        "\n",
        "decoder_initial_states=[decoder_inital_h,decoder_inital_c]\n",
        "\n",
        "decoder_input_single=Input(shape=(1,))\n",
        "decoder_embedding_single=decoder_embedding(decoder_input_single)\n",
        "decoder_outputs_x,h,c=decoder_lstm(decoder_embedding_single,initial_state=decoder_initial_states)\n",
        "\n",
        "decoder_states=[h,c]\n",
        "\n",
        "decoder_output=decoder_dense(decoder_outputs_x)\n",
        "\n",
        "decoder_model=Model([decoder_input_single]  +  decoder_initial_states,\n",
        "                    [decoder_output]  +  decoder_states\n",
        "                   )"
      ]
    },
    {
      "cell_type": "code",
      "execution_count": 38,
      "metadata": {
        "id": "tEYJxlJJF5is"
      },
      "outputs": [],
      "source": [
        "idx2word_output={v:k for k,v in word2idx_output.items()}"
      ]
    },
    {
      "cell_type": "code",
      "execution_count": 39,
      "metadata": {
        "id": "orr281vkGBts"
      },
      "outputs": [],
      "source": [
        "def decode_sequence(sequence):\n",
        "    states_value=encoder_model.predict(sequence,verbose=0)\n",
        "\n",
        "    target_seq=np.zeros((1,1))\n",
        "    target_seq[0,0]=word2idx_output['<sos>']\n",
        "\n",
        "    eos=word2idx_output['<eos>']\n",
        "\n",
        "    output_sequence=[]\n",
        "\n",
        "    for _ in range(max_seq_len):\n",
        "        output_token,h,c=decoder_model.predict([target_seq]+states_value,verbose=0)\n",
        "\n",
        "        idx=np.argmax(output_token[0,0,:])\n",
        "\n",
        "        if idx==eos:\n",
        "            break\n",
        "\n",
        "        if idx>0:\n",
        "            output_sequence.append(idx2word_output[idx])\n",
        "\n",
        "        target_seq[0,0]=idx\n",
        "        states_value=[h,c]\n",
        "\n",
        "    return ' '.join(output_sequence)"
      ]
    },
    {
      "cell_type": "code",
      "execution_count": 40,
      "metadata": {
        "id": "4PenotFSGIIz",
        "colab": {
          "base_uri": "https://localhost:8080/"
        },
        "outputId": "f896cc77-2ee9-44a0-dda1-10db1335bdf3"
      },
      "outputs": [
        {
          "output_type": "stream",
          "name": "stdout",
          "text": [
            "------------------\n",
            "input text: Basic Indentation\n",
            "real output इंडेन्टेशन\n",
            "predicted output: इंडेन्टेशन\n",
            "------------------\n",
            "input text: the four of hearts\n",
            "real output लाल पान का चव्वा\n",
            "predicted output: लाल पान का चव्वा\n",
            "------------------\n",
            "input text: % s index in parent does not match child index\n",
            "real output अभिभावक में% s सूची शिशु सूची सेमेल नहीं खाती\n",
            "predicted output: अभिभावक में% s सूची शिशु सूची सेमेल नहीं खाती\n",
            "------------------\n",
            "input text: execvp failed\n",
            "real output execvp विफल\n",
            "predicted output: execvp विफल\n"
          ]
        }
      ],
      "source": [
        "i=0\n",
        "while i<4:\n",
        "    j=np.random.choice(len(encoder_input))\n",
        "    input_seq=encoder_input[j:j+1]\n",
        "    seq=decode_sequence(input_seq)\n",
        "    print('------------------')\n",
        "    print('input text:',input_text[j])\n",
        "    print('real output',translation[j])\n",
        "    print('predicted output:',seq)\n",
        "    i+=1"
      ]
    },
    {
      "cell_type": "code",
      "execution_count": null,
      "metadata": {
        "colab": {
          "background_save": true
        },
        "id": "KAktOf7IK0Xa"
      },
      "outputs": [],
      "source": [
        "from nltk.translate.bleu_score import corpus_bleu, SmoothingFunction\n",
        "smoothie = SmoothingFunction().method4\n",
        "\n",
        "references = []\n",
        "candidates = []\n",
        "\n",
        "num_samples = 1000\n",
        "\n",
        "for i in range(num_samples):\n",
        "    input_seq = encoder_input[i:i+1]\n",
        "    predicted_sentence = decode_sequence(input_seq)\n",
        "\n",
        "\n",
        "    ref = translation[i].strip().split()\n",
        "    pred = predicted_sentence.strip().split()\n",
        "\n",
        "    references.append([ref])\n",
        "    candidates.append(pred)\n",
        "\n",
        "\n",
        "bleu_score = corpus_bleu(references, candidates, smoothing_function=smoothie)\n",
        "\n",
        "print(\"Corpus BLEU score for the model on\", num_samples, \"samples is:\", bleu_score)"
      ]
    },
    {
      "cell_type": "code",
      "execution_count": null,
      "metadata": {
        "id": "hk52JlTNLZO8"
      },
      "outputs": [],
      "source": []
    }
  ],
  "metadata": {
    "accelerator": "GPU",
    "colab": {
      "gpuType": "T4",
      "provenance": []
    },
    "kernelspec": {
      "display_name": "Python 3",
      "name": "python3"
    },
    "language_info": {
      "name": "python"
    }
  },
  "nbformat": 4,
  "nbformat_minor": 0
}